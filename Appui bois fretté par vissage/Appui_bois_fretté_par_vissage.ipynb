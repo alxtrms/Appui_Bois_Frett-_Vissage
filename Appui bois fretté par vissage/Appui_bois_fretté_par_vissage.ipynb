{
 "cells": [
  {
   "cell_type": "markdown",
   "id": "cd69c23e",
   "metadata": {
    "extensions": {
     "jupyter_dashboards": {
      "version": 1,
      "views": {
       "default_view": {
        "col": 0,
        "height": 2,
        "row": 90,
        "width": 12
       }
      }
     }
    }
   },
   "source": [
    "# Appui bois en compression transversale fretté par vissage"
   ]
  },
  {
   "cell_type": "code",
   "execution_count": 33,
   "id": "5c07b685",
   "metadata": {
    "ExecuteTime": {
     "end_time": "2022-05-10T10:28:50.608324Z",
     "start_time": "2022-05-10T10:28:50.593078Z"
    },
    "extensions": {
     "jupyter_dashboards": {
      "version": 1,
      "views": {
       "default_view": {
        "hidden": true
       }
      }
     }
    }
   },
   "outputs": [],
   "source": [
    "## Importation des différentes bibliothèques nécéssaires\n",
    "\n",
    "from math import *\n",
    "import ipywidgets as widgets\n",
    "from tkinter import *\n",
    "import ipywidgets as widgets\n",
    "import matplotlib.pyplot as plt\n",
    "import numpy as np\n",
    "from IPython.display import Javascript, display\n",
    "from ipywidgets import widgets\n",
    "import pandas as pd\n",
    "from math import *\n",
    "import matplotlib.pyplot as plt\n",
    "import math\n",
    "from ipycanvas import Canvas\n",
    "from ipycanvas import Canvas, hold_canvas"
   ]
  },
  {
   "cell_type": "markdown",
   "id": "234a9eb6",
   "metadata": {
    "extensions": {
     "jupyter_dashboards": {
      "version": 1,
      "views": {
       "default_view": {
        "col": 0,
        "height": 2,
        "row": 86,
        "width": 12
       }
      }
     }
    }
   },
   "source": [
    "## 1. Données d'entrée"
   ]
  },
  {
   "cell_type": "markdown",
   "id": "aef20aed",
   "metadata": {
    "extensions": {
     "jupyter_dashboards": {
      "version": 1,
      "views": {
       "default_view": {
        "col": 0,
        "height": 2,
        "row": 84,
        "width": 12
       }
      }
     }
    }
   },
   "source": [
    "### 1.1. Références normatives\n",
    "\n",
    "*- NF EN 1993 + AN : Calcul des structures en acier*\n",
    "\n",
    "*- NF EN 1995 + AN : Conception et calcul des structures en bois*"
   ]
  },
  {
   "cell_type": "markdown",
   "id": "2664dfe8",
   "metadata": {
    "extensions": {
     "jupyter_dashboards": {
      "version": 1,
      "views": {
       "default_view": {
        "col": 0,
        "height": 2,
        "row": 82,
        "width": 12
       }
      }
     }
    }
   },
   "source": [
    "### 1.2. Matériau"
   ]
  },
  {
   "cell_type": "markdown",
   "id": "270fb764",
   "metadata": {},
   "source": [
    "#### Bois"
   ]
  },
  {
   "cell_type": "code",
   "execution_count": 2,
   "id": "8e1b892f",
   "metadata": {
    "ExecuteTime": {
     "end_time": "2022-05-10T10:28:18.757570Z",
     "start_time": "2022-05-10T10:28:18.719736Z"
    },
    "extensions": {
     "jupyter_dashboards": {
      "version": 1,
      "views": {
       "default_view": {
        "col": 0,
        "height": 2,
        "row": 80,
        "width": 12
       }
      }
     }
    }
   },
   "outputs": [
    {
     "data": {
      "application/vnd.jupyter.widget-view+json": {
       "model_id": "f0b7e5575fde49078ef94c5baa249779",
       "version_major": 2,
       "version_minor": 0
      },
      "text/plain": [
       "Dropdown(description='Type :', options=('Résineux', 'Feuillus', 'Lamellé collé'), value='Résineux')"
      ]
     },
     "metadata": {},
     "output_type": "display_data"
    }
   ],
   "source": [
    "## Création d'une liste déroulante \n",
    "\n",
    "bois=widgets.Dropdown(\n",
    "    options=['Résineux','Feuillus','Lamellé collé'],\n",
    "    value='Résineux',\n",
    "    description='Type :',\n",
    "    disabled=False,\n",
    ")\n",
    "bois"
   ]
  },
  {
   "cell_type": "code",
   "execution_count": 3,
   "id": "d342e097",
   "metadata": {
    "ExecuteTime": {
     "end_time": "2022-05-10T10:28:18.773154Z",
     "start_time": "2022-05-10T10:28:18.757570Z"
    },
    "extensions": {
     "jupyter_dashboards": {
      "version": 1,
      "views": {
       "default_view": {
        "col": 0,
        "height": 2,
        "row": 78,
        "width": 12
       }
      }
     }
    }
   },
   "outputs": [
    {
     "data": {
      "application/vnd.jupyter.widget-view+json": {
       "model_id": "1b236df3102c4bde987f1cd72dd5e0f9",
       "version_major": 2,
       "version_minor": 0
      },
      "text/plain": [
       "Button(description='Valider', style=ButtonStyle())"
      ]
     },
     "metadata": {},
     "output_type": "display_data"
    }
   ],
   "source": [
    "## Création d'un bouton qui permet d'actualiser les cellules suivantes grace à JavaScript\n",
    "\n",
    "## Dans display(Javascript(....index()+1,.....index()+2), index+1=première cellule à actualiser, index+2=dernière cellule à actualiser \n",
    "\n",
    "def run_all(ev):\n",
    "    display(Javascript('IPython.notebook.execute_cell_range(IPython.notebook.get_selected_index()+1, IPython.notebook.get_selected_index()+2)'))\n",
    "\n",
    "button = widgets.Button(description=\"Valider\")\n",
    "\n",
    "button.on_click(run_all)\n",
    "display(button)"
   ]
  },
  {
   "cell_type": "code",
   "execution_count": 4,
   "id": "9c40a398",
   "metadata": {
    "ExecuteTime": {
     "end_time": "2022-05-10T10:28:18.788812Z",
     "start_time": "2022-05-10T10:28:18.773154Z"
    },
    "extensions": {
     "jupyter_dashboards": {
      "version": 1,
      "views": {
       "default_view": {
        "col": 0,
        "height": 2,
        "row": 76,
        "width": 12
       }
      }
     }
    }
   },
   "outputs": [
    {
     "data": {
      "application/vnd.jupyter.widget-view+json": {
       "model_id": "f1d42a56290d496ab699d8aa97968d4b",
       "version_major": 2,
       "version_minor": 0
      },
      "text/plain": [
       "Dropdown(description='Classe :', index=3, options=('C14', 'C16', 'C18', 'C20', 'C22', 'C24', 'C27', 'C30', 'C3…"
      ]
     },
     "metadata": {},
     "output_type": "display_data"
    }
   ],
   "source": [
    "## Création d'une liste déroulante dont les valeurs sont conditionnées par une liste déroulante précendente avec la fonction if \n",
    "\n",
    "if bois.value=='Résineux':\n",
    "    classe=widgets.Dropdown(\n",
    "        options=['C14','C16','C18','C20','C22','C24','C27','C30','C35','C40'],\n",
    "        value='C20',\n",
    "        description='Classe :',\n",
    "        disabled=False,\n",
    ")\n",
    "elif bois.value=='Feuillus':\n",
    "    classe=widgets.Dropdown(\n",
    "        options=['D30','D35','D40','D50','D60','D70'],\n",
    "        value='D30',\n",
    "        description='Classe :',\n",
    "        disabled=False,\n",
    ")\n",
    "else:\n",
    "    classe=widgets.Dropdown(\n",
    "        options=['GL24h','GL28h','GL32h','GL36h','GL24c','GL28c','GL32c','GL36c'],\n",
    "        value='GL24h',\n",
    "        description='Classe :',\n",
    "        disabled=False,\n",
    ")\n",
    "\n",
    "display(classe)"
   ]
  },
  {
   "cell_type": "markdown",
   "id": "a75f4082",
   "metadata": {},
   "source": [
    "#### Résistance limite élastique de l'acier des tire-fonds"
   ]
  },
  {
   "cell_type": "code",
   "execution_count": 5,
   "id": "05469594",
   "metadata": {
    "ExecuteTime": {
     "end_time": "2022-05-10T10:28:18.804397Z",
     "start_time": "2022-05-10T10:28:18.788812Z"
    }
   },
   "outputs": [
    {
     "data": {
      "application/vnd.jupyter.widget-view+json": {
       "model_id": "db6c99d9f85041f9bbe9c51eb451aac9",
       "version_major": 2,
       "version_minor": 0
      },
      "text/plain": [
       "FloatSlider(value=480.0, continuous_update=False, description='fy [MPa]', max=600.0, min=480.0, readout_format…"
      ]
     },
     "metadata": {},
     "output_type": "display_data"
    }
   ],
   "source": [
    "fyb=widgets.FloatSlider(\n",
    "    value=480,\n",
    "    min=480,\n",
    "    max=600,\n",
    "    step=20,\n",
    "    description=('fy [MPa]'),\n",
    "    disabled=False,\n",
    "    continuous_update=False,\n",
    "    orientation='horizontal',\n",
    "    readout=True,\n",
    "    readout_format='.1f',)\n",
    "\n",
    "fyb"
   ]
  },
  {
   "cell_type": "markdown",
   "id": "2ae0c54a",
   "metadata": {},
   "source": [
    "#### Résistance ultime à la traction de l'acier des tire-fonds"
   ]
  },
  {
   "cell_type": "code",
   "execution_count": 6,
   "id": "b15b631d",
   "metadata": {
    "ExecuteTime": {
     "end_time": "2022-05-10T10:28:18.820018Z",
     "start_time": "2022-05-10T10:28:18.804397Z"
    }
   },
   "outputs": [
    {
     "data": {
      "application/vnd.jupyter.widget-view+json": {
       "model_id": "7c10152273d94898a2f42deeee4044bf",
       "version_major": 2,
       "version_minor": 0
      },
      "text/plain": [
       "FloatSlider(value=600.0, continuous_update=False, description='fu [MPa]', max=900.0, min=600.0, readout_format…"
      ]
     },
     "metadata": {},
     "output_type": "display_data"
    }
   ],
   "source": [
    "fub=widgets.FloatSlider(\n",
    "    value=600,\n",
    "    min=600,\n",
    "    max=900,\n",
    "    step=20,\n",
    "    description=('fu [MPa]'),\n",
    "    disabled=False,\n",
    "    continuous_update=False,\n",
    "    orientation='horizontal',\n",
    "    readout=True,\n",
    "    readout_format='.1f',)\n",
    "\n",
    "fub"
   ]
  },
  {
   "cell_type": "markdown",
   "id": "ae46d8d9",
   "metadata": {},
   "source": [
    "#### Nuance d'acier de la platine de répartition"
   ]
  },
  {
   "cell_type": "code",
   "execution_count": 7,
   "id": "d12035d0",
   "metadata": {
    "ExecuteTime": {
     "end_time": "2022-05-10T10:28:18.842184Z",
     "start_time": "2022-05-10T10:28:18.820018Z"
    }
   },
   "outputs": [
    {
     "data": {
      "application/vnd.jupyter.widget-view+json": {
       "model_id": "83804c7270e648239ac89b257b6c923b",
       "version_major": 2,
       "version_minor": 0
      },
      "text/plain": [
       "Dropdown(description='S', index=1, options=('235', '275', '355', '420', '460'), value='275')"
      ]
     },
     "metadata": {},
     "output_type": "display_data"
    }
   ],
   "source": [
    "nuance=widgets.Dropdown(\n",
    "        options=['235','275','355','420','460'],\n",
    "        value='275',\n",
    "        description='S',\n",
    "        disabled=False,)\n",
    "nuance"
   ]
  },
  {
   "cell_type": "markdown",
   "id": "721a6049",
   "metadata": {},
   "source": [
    "### 1.3. Exposition"
   ]
  },
  {
   "cell_type": "markdown",
   "id": "780a1d37",
   "metadata": {},
   "source": [
    "#### Classe de service"
   ]
  },
  {
   "cell_type": "code",
   "execution_count": 8,
   "id": "882ba2c4",
   "metadata": {
    "ExecuteTime": {
     "end_time": "2022-05-10T10:28:18.857804Z",
     "start_time": "2022-05-10T10:28:18.842184Z"
    }
   },
   "outputs": [
    {
     "data": {
      "application/vnd.jupyter.widget-view+json": {
       "model_id": "5d2547897dc84dd29c317dd6b5bdfc81",
       "version_major": 2,
       "version_minor": 0
      },
      "text/plain": [
       "ToggleButtons(options=('Classe de service 1', 'Classe de service 2', 'Classe de service 3'), value='Classe de …"
      ]
     },
     "metadata": {},
     "output_type": "display_data"
    }
   ],
   "source": [
    "## Création d'un ToggelButton\n",
    "\n",
    "service=widgets.ToggleButtons(\n",
    "    options=['Classe de service 1', 'Classe de service 2', 'Classe de service 3'],\n",
    "    description='',\n",
    "    disabled=False,\n",
    "    button_style='', # 'success', 'info', 'warning', 'danger' or ''\n",
    "   \n",
    ")\n",
    "service"
   ]
  },
  {
   "cell_type": "markdown",
   "id": "a4245ccb",
   "metadata": {},
   "source": [
    "#### Classe de durée de chargement"
   ]
  },
  {
   "cell_type": "code",
   "execution_count": 9,
   "id": "baa073f3",
   "metadata": {
    "ExecuteTime": {
     "end_time": "2022-05-10T10:28:18.873392Z",
     "start_time": "2022-05-10T10:28:18.857804Z"
    }
   },
   "outputs": [
    {
     "data": {
      "application/vnd.jupyter.widget-view+json": {
       "model_id": "a3b13c58706448929af4ba858c8f26af",
       "version_major": 2,
       "version_minor": 0
      },
      "text/plain": [
       "ToggleButtons(options=('Permanent', 'Long terme', 'Moyen terme', 'Court terme', 'Instantané'), value='Permanen…"
      ]
     },
     "metadata": {},
     "output_type": "display_data"
    }
   ],
   "source": [
    "duree=widgets.ToggleButtons(\n",
    "    options=['Permanent', 'Long terme', 'Moyen terme','Court terme','Instantané'],\n",
    "    description='',\n",
    "    disabled=False,\n",
    "    button_style='', # 'success', 'info', 'warning', 'danger' or ''\n",
    "   \n",
    ")\n",
    "duree"
   ]
  },
  {
   "cell_type": "markdown",
   "id": "ad5f192f",
   "metadata": {
    "extensions": {
     "jupyter_dashboards": {
      "version": 1,
      "views": {
       "default_view": {
        "col": 0,
        "height": 2,
        "row": 66,
        "width": 12
       }
      }
     }
    },
    "hide_input": true
   },
   "source": [
    "### 1.4. Géométrie"
   ]
  },
  {
   "cell_type": "markdown",
   "id": "595f2df4",
   "metadata": {},
   "source": [
    "#### Diamètre extérieur des tire-fonds"
   ]
  },
  {
   "cell_type": "code",
   "execution_count": 10,
   "id": "c447f9b6",
   "metadata": {
    "ExecuteTime": {
     "end_time": "2022-05-10T10:28:18.889048Z",
     "start_time": "2022-05-10T10:28:18.873392Z"
    }
   },
   "outputs": [
    {
     "data": {
      "application/vnd.jupyter.widget-view+json": {
       "model_id": "946cfe3b0902471eae7f6f68160a96aa",
       "version_major": 2,
       "version_minor": 0
      },
      "text/plain": [
       "FloatSlider(value=8.0, continuous_update=False, description='d [mm]', max=12.0, min=6.0, readout_format='.1f',…"
      ]
     },
     "metadata": {},
     "output_type": "display_data"
    }
   ],
   "source": [
    "d=widgets.FloatSlider(\n",
    "    value=8,\n",
    "    min=6,\n",
    "    max=12,\n",
    "    step=1,\n",
    "    description=('d [mm]'),\n",
    "    disabled=False,\n",
    "    continuous_update=False,\n",
    "    orientation='horizontal',\n",
    "    readout=True,\n",
    "    readout_format='.1f',)\n",
    "\n",
    "d"
   ]
  },
  {
   "cell_type": "markdown",
   "id": "e15d02af",
   "metadata": {},
   "source": [
    "#### Section de la poutre"
   ]
  },
  {
   "cell_type": "code",
   "execution_count": 11,
   "id": "dfef6420",
   "metadata": {
    "ExecuteTime": {
     "end_time": "2022-05-10T10:28:18.904662Z",
     "start_time": "2022-05-10T10:28:18.889048Z"
    }
   },
   "outputs": [
    {
     "data": {
      "application/vnd.jupyter.widget-view+json": {
       "model_id": "dff7893716de48cdb4bdc7c85d07765a",
       "version_major": 2,
       "version_minor": 0
      },
      "text/plain": [
       "FloatSlider(value=100.0, continuous_update=False, description='b [mm]', max=200.0, readout_format='.1f', step=…"
      ]
     },
     "metadata": {},
     "output_type": "display_data"
    }
   ],
   "source": [
    "ba=widgets.FloatSlider(\n",
    "    value=100,\n",
    "    min=0,\n",
    "    max=200,\n",
    "    step=10,\n",
    "    description=('b [mm]'),\n",
    "    disabled=False,\n",
    "    continuous_update=False,\n",
    "    orientation='horizontal',\n",
    "    readout=True,\n",
    "    readout_format='.1f',)\n",
    "ba"
   ]
  },
  {
   "cell_type": "code",
   "execution_count": 12,
   "id": "bf574de7",
   "metadata": {
    "ExecuteTime": {
     "end_time": "2022-05-10T10:28:18.920289Z",
     "start_time": "2022-05-10T10:28:18.904662Z"
    }
   },
   "outputs": [
    {
     "data": {
      "application/vnd.jupyter.widget-view+json": {
       "model_id": "1229b59160ab4f9bb9d7a392cfebdbc5",
       "version_major": 2,
       "version_minor": 0
      },
      "text/plain": [
       "FloatSlider(value=200.0, continuous_update=False, description='h [mm]', max=600.0, readout_format='.1f', step=…"
      ]
     },
     "metadata": {},
     "output_type": "display_data"
    }
   ],
   "source": [
    "ha=widgets.FloatSlider(\n",
    "    value=200,\n",
    "    min=0,\n",
    "    max=600,\n",
    "    step=10,\n",
    "    description=('h [mm]'),\n",
    "    disabled=False,\n",
    "    continuous_update=False,\n",
    "    orientation='horizontal',\n",
    "    readout=True,\n",
    "    readout_format='.1f',)\n",
    "ha"
   ]
  },
  {
   "cell_type": "code",
   "execution_count": 13,
   "id": "7c868e20",
   "metadata": {
    "ExecuteTime": {
     "end_time": "2022-05-10T10:28:18.942500Z",
     "start_time": "2022-05-10T10:28:18.920289Z"
    }
   },
   "outputs": [
    {
     "data": {
      "application/vnd.jupyter.widget-view+json": {
       "model_id": "ada9a2469e464932889fe096db0c0b89",
       "version_major": 2,
       "version_minor": 0
      },
      "text/plain": [
       "Button(description='Valider', style=ButtonStyle())"
      ]
     },
     "metadata": {},
     "output_type": "display_data"
    }
   ],
   "source": [
    "## Création d'un bouton qui permet d'actualiser les cellules suivantes grace à JavaScript\n",
    "\n",
    "## Dans display(Javascript(....index()+1,.....index()+2), index+1=première cellule à actualiser, index+2=dernière cellule à actualiser \n",
    "\n",
    "def run_all(ev):\n",
    "    display(Javascript('IPython.notebook.execute_cell_range(IPython.notebook.get_selected_index()+1, IPython.notebook.get_selected_index()+3)'))\n",
    "\n",
    "button = widgets.Button(description=\"Valider\")\n",
    "\n",
    "button.on_click(run_all)\n",
    "display(button)"
   ]
  },
  {
   "cell_type": "markdown",
   "id": "ea21a099",
   "metadata": {},
   "source": [
    "#### Longeur de pénétration de la partie filetée"
   ]
  },
  {
   "cell_type": "code",
   "execution_count": 14,
   "id": "7dabacbf",
   "metadata": {
    "ExecuteTime": {
     "end_time": "2022-05-10T10:28:18.958107Z",
     "start_time": "2022-05-10T10:28:18.942500Z"
    },
    "extensions": {
     "jupyter_dashboards": {
      "version": 1,
      "views": {
       "default_view": {
        "col": 0,
        "height": 2,
        "row": 64,
        "width": 12
       }
      }
     }
    }
   },
   "outputs": [
    {
     "data": {
      "application/vnd.jupyter.widget-view+json": {
       "model_id": "6c5f572b6677412486f64bba3b887905",
       "version_major": 2,
       "version_minor": 0
      },
      "text/plain": [
       "FloatSlider(value=100.0, continuous_update=False, description='lef [mm]', min=48.0, readout_format='.1f', step…"
      ]
     },
     "metadata": {},
     "output_type": "display_data"
    }
   ],
   "source": [
    "## Création d'un slider\n",
    "\n",
    "l=widgets.FloatSlider(\n",
    "    value=100,\n",
    "    min=6*d.value,\n",
    "    max=ha.value/2,\n",
    "    step=1,\n",
    "    description=('lef [mm]'),\n",
    "    disabled=False,\n",
    "    continuous_update=False,\n",
    "    orientation='horizontal',\n",
    "    readout=True,\n",
    "    readout_format='.1f',)\n",
    "l"
   ]
  },
  {
   "cell_type": "markdown",
   "id": "de96c716",
   "metadata": {},
   "source": [
    "#### Nombre de tire-fonds"
   ]
  },
  {
   "cell_type": "code",
   "execution_count": 15,
   "id": "7bf281ff",
   "metadata": {
    "ExecuteTime": {
     "end_time": "2022-05-10T10:28:18.973735Z",
     "start_time": "2022-05-10T10:28:18.958107Z"
    }
   },
   "outputs": [
    {
     "data": {
      "application/vnd.jupyter.widget-view+json": {
       "model_id": "50ddecfd1ba4492994de03c6bca0a623",
       "version_major": 2,
       "version_minor": 0
      },
      "text/plain": [
       "FloatSlider(value=10.0, continuous_update=False, description='n', max=30.0, readout_format='.1f', step=2.0)"
      ]
     },
     "metadata": {},
     "output_type": "display_data"
    }
   ],
   "source": [
    "n=widgets.FloatSlider(\n",
    "    value=10,\n",
    "    min=0,\n",
    "    max=30,\n",
    "    step=2,\n",
    "    description=('n'),\n",
    "    disabled=False,\n",
    "    continuous_update=False,\n",
    "    orientation='horizontal',\n",
    "    readout=True,\n",
    "    readout_format='.1f',)\n",
    "n"
   ]
  },
  {
   "cell_type": "markdown",
   "id": "51f2fb2e",
   "metadata": {},
   "source": [
    "#### Angle entre axe du tire-fond et fil du bois"
   ]
  },
  {
   "cell_type": "code",
   "execution_count": 16,
   "id": "03b9faa2",
   "metadata": {
    "ExecuteTime": {
     "end_time": "2022-05-10T10:28:18.989349Z",
     "start_time": "2022-05-10T10:28:18.973735Z"
    }
   },
   "outputs": [
    {
     "data": {
      "application/vnd.jupyter.widget-view+json": {
       "model_id": "1153524c294044bdb128ccea756caeba",
       "version_major": 2,
       "version_minor": 0
      },
      "text/plain": [
       "FloatSlider(value=90.0, continuous_update=False, description='$$ \\\\alpha $$', max=90.0, min=30.0, readout_form…"
      ]
     },
     "metadata": {},
     "output_type": "display_data"
    }
   ],
   "source": [
    "alph=widgets.FloatSlider(\n",
    "    value=90,\n",
    "    min=30,\n",
    "    max=90,\n",
    "    step=1,\n",
    "    description=('$$ \\\\alpha $$'),\n",
    "    disabled=False,\n",
    "    continuous_update=False,\n",
    "    orientation='horizontal',\n",
    "    readout=True,\n",
    "    readout_format='.1f',)\n",
    "alph"
   ]
  },
  {
   "cell_type": "markdown",
   "id": "876ed1cf",
   "metadata": {},
   "source": [
    "#### Type d'appui"
   ]
  },
  {
   "cell_type": "code",
   "execution_count": 17,
   "id": "766eee91",
   "metadata": {
    "ExecuteTime": {
     "end_time": "2022-05-10T10:28:19.004936Z",
     "start_time": "2022-05-10T10:28:18.989349Z"
    }
   },
   "outputs": [
    {
     "data": {
      "application/vnd.jupyter.widget-view+json": {
       "model_id": "ffd9fb6c270745bf9c618fc496a6900c",
       "version_major": 2,
       "version_minor": 0
      },
      "text/plain": [
       "Dropdown(description='Type :', index=1, options=('Rive', 'Localisé'), value='Localisé')"
      ]
     },
     "metadata": {},
     "output_type": "display_data"
    }
   ],
   "source": [
    "appui=widgets.Dropdown(\n",
    "    options=['Rive','Localisé',],\n",
    "    value='Localisé',\n",
    "    description='Type :',\n",
    "    disabled=False,\n",
    ")\n",
    "appui"
   ]
  },
  {
   "cell_type": "markdown",
   "id": "1fab9900",
   "metadata": {},
   "source": [
    "### 1.5. Chargement ELU "
   ]
  },
  {
   "cell_type": "markdown",
   "id": "04414410",
   "metadata": {},
   "source": [
    "#### Composante d'effort axial"
   ]
  },
  {
   "cell_type": "code",
   "execution_count": 18,
   "id": "30c3c1b7",
   "metadata": {
    "ExecuteTime": {
     "end_time": "2022-05-10T10:28:19.020593Z",
     "start_time": "2022-05-10T10:28:19.004936Z"
    }
   },
   "outputs": [
    {
     "data": {
      "application/vnd.jupyter.widget-view+json": {
       "model_id": "0a6d525ede4544af86ce7eaec5d4ac14",
       "version_major": 2,
       "version_minor": 0
      },
      "text/plain": [
       "BoundedFloatText(value=0.0, description='Fax [kN]:', max=200.0, step=1.0)"
      ]
     },
     "metadata": {},
     "output_type": "display_data"
    }
   ],
   "source": [
    "p=widgets.BoundedFloatText(\n",
    "    value=0,\n",
    "    min=0,\n",
    "    max=200,\n",
    "    step=1,\n",
    "    description='Fax [kN]:',\n",
    "    disabled=False)\n",
    "p"
   ]
  },
  {
   "cell_type": "markdown",
   "id": "8fdb2ab6",
   "metadata": {},
   "source": [
    "#### Composante d'effort lateral"
   ]
  },
  {
   "cell_type": "code",
   "execution_count": 19,
   "id": "edc9443f",
   "metadata": {
    "ExecuteTime": {
     "end_time": "2022-05-10T10:28:19.042837Z",
     "start_time": "2022-05-10T10:28:19.020593Z"
    }
   },
   "outputs": [
    {
     "data": {
      "application/vnd.jupyter.widget-view+json": {
       "model_id": "a015bc026b134cd0a59f50b60673f6a9",
       "version_major": 2,
       "version_minor": 0
      },
      "text/plain": [
       "BoundedFloatText(value=0.0, description='Fv [kN]:', max=200.0, step=1.0)"
      ]
     },
     "metadata": {},
     "output_type": "display_data"
    }
   ],
   "source": [
    "pl=widgets.BoundedFloatText(\n",
    "    value=0,\n",
    "    min=0,\n",
    "    max=200,\n",
    "    step=1,\n",
    "    description='Fv [kN]:',\n",
    "    disabled=False)\n",
    "pl"
   ]
  },
  {
   "cell_type": "code",
   "execution_count": 20,
   "id": "f3ccb556",
   "metadata": {
    "ExecuteTime": {
     "end_time": "2022-05-10T10:28:19.058570Z",
     "start_time": "2022-05-10T10:28:19.042837Z"
    },
    "extensions": {
     "jupyter_dashboards": {
      "version": 1,
      "views": {
       "default_view": {
        "col": 0,
        "height": 2,
        "row": 58,
        "width": 12
       }
      }
     }
    },
    "hide_input": true
   },
   "outputs": [
    {
     "data": {
      "application/vnd.jupyter.widget-view+json": {
       "model_id": "f98c3eb18c75477799a640826ff3c64a",
       "version_major": 2,
       "version_minor": 0
      },
      "text/plain": [
       "Button(description='Valider', style=ButtonStyle())"
      ]
     },
     "metadata": {},
     "output_type": "display_data"
    },
    {
     "data": {
      "application/javascript": [
       "IPython.notebook.execute_cell_range(IPython.notebook.get_selected_index()+1, IPython.notebook.get_selected_index()+40)"
      ],
      "text/plain": [
       "<IPython.core.display.Javascript object>"
      ]
     },
     "metadata": {},
     "output_type": "display_data"
    },
    {
     "data": {
      "application/javascript": [
       "IPython.notebook.execute_cell_range(IPython.notebook.get_selected_index()+1, IPython.notebook.get_selected_index()+40)"
      ],
      "text/plain": [
       "<IPython.core.display.Javascript object>"
      ]
     },
     "metadata": {},
     "output_type": "display_data"
    }
   ],
   "source": [
    "## Création d'un bouton qui permet d'actualiser les cellules suivantes grace à JavaScript\n",
    "\n",
    "def run_all(ev):\n",
    "    display(Javascript('IPython.notebook.execute_cell_range(IPython.notebook.get_selected_index()+1, IPython.notebook.get_selected_index()+40)'))\n",
    "\n",
    "button = widgets.Button(description=\"Valider\")\n",
    "\n",
    "button.on_click(run_all)\n",
    "display(button)"
   ]
  },
  {
   "cell_type": "code",
   "execution_count": 107,
   "id": "d1df6476",
   "metadata": {
    "ExecuteTime": {
     "end_time": "2022-05-10T10:53:55.259991Z",
     "start_time": "2022-05-10T10:53:55.221716Z"
    }
   },
   "outputs": [],
   "source": [
    "## Importation de différentes valeur d'un fichier excel grace à panda\n",
    "\n",
    "caracbois=pd.read_excel(\"caracB.xlsx\")\n",
    "\n",
    "fmk=caracbois.loc[0,classe.value]\n",
    "ft0k=caracbois.loc[1,classe.value]\n",
    "ft90k=caracbois.loc[2,classe.value]\n",
    "fc0k=caracbois.loc[3,classe.value]\n",
    "fc90k=caracbois.loc[4,classe.value]\n",
    "fvk=caracbois.loc[5,classe.value]\n",
    "e0m=caracbois.loc[6,classe.value]\n",
    "e05=caracbois.loc[7,classe.value]\n",
    "pm=caracbois.loc[8,classe.value]\n",
    "pk=caracbois.loc[9,classe.value]\n",
    "\n",
    "\n",
    "kmod0=kmod1=kmod2=kmod3=kmod4=kmod5=kmod6=kmod7=kmod8=kmod9=kmod10=kmod12=kmod12=0\n",
    "\n",
    "## Définition de la valeur de gamma en fonction de la nature du bois \n",
    "\n",
    "if bois.value=='Lamellé collé':\n",
    "    gm=1.25\n",
    "else:\n",
    "    gm=1.3\n",
    "\n",
    "## Définition du kmod en fondtion de la classe de service et de la durée de chargement\n",
    "\n",
    "if service.value=='Classe de service 3':\n",
    "    if duree.value=='Permanent':\n",
    "        kmod=0.5\n",
    "    elif duree.value=='Long terme':\n",
    "        kmod=0.55\n",
    "    elif duree.value=='Moyen terme':\n",
    "        kmod=0.65\n",
    "    elif duree.value=='Court terme':\n",
    "        kmod=0.7\n",
    "    else:\n",
    "        kmod=0.9\n",
    "else :\n",
    "    if duree.value=='Permanent':\n",
    "        kmod=0.6\n",
    "    elif duree.value=='Long terme':\n",
    "        kmod=0.7\n",
    "    elif duree.value=='Moyen terme':\n",
    "        kmod=0.8\n",
    "    elif duree.value=='Court terme':\n",
    "        kmod=0.9\n",
    "    else:\n",
    "        kmod=1.1"
   ]
  },
  {
   "cell_type": "markdown",
   "id": "3f985842",
   "metadata": {},
   "source": [
    "#### Conditions de pince des tire-fonds"
   ]
  },
  {
   "cell_type": "code",
   "execution_count": 108,
   "id": "9add7ca0",
   "metadata": {
    "ExecuteTime": {
     "end_time": "2022-05-10T10:53:55.280150Z",
     "start_time": "2022-05-10T10:53:55.262016Z"
    },
    "extensions": {
     "jupyter_dashboards": {
      "version": 1,
      "views": {
       "default_view": {
        "hidden": true
       }
      }
     }
    }
   },
   "outputs": [
    {
     "data": {
      "application/vnd.jupyter.widget-view+json": {
       "model_id": "8472737462484009bc53b1d11c45e2ad",
       "version_major": 2,
       "version_minor": 0
      },
      "text/plain": [
       "Image(value=b'\\x89PNG\\r\\n\\x1a\\n\\x00\\x00\\x00\\rIHDR\\x00\\x00\\x02j\\x00\\x00\\x01\\x04\\x08\\x06\\x00\\x00\\x00\\x98\\xc4\\x18…"
      ]
     },
     "metadata": {},
     "output_type": "display_data"
    }
   ],
   "source": [
    "file = open(\"Pinces.png\", \"rb\")\n",
    "image = file.read()\n",
    "widgets.Image(\n",
    "    value=image,\n",
    "    format='png',\n",
    "    width=500,\n",
    "    height=500,\n",
    ")"
   ]
  },
  {
   "cell_type": "code",
   "execution_count": 109,
   "id": "0330e883",
   "metadata": {
    "ExecuteTime": {
     "end_time": "2022-05-10T10:53:55.300347Z",
     "start_time": "2022-05-10T10:53:55.282152Z"
    }
   },
   "outputs": [],
   "source": [
    "a1=d.value*7\n",
    "a2=d.value*5\n",
    "a1c=d.value*10\n",
    "a2c=d.value*4\n",
    "                \n",
    "la=(a1/sin(math.radians(alph.value)))*(n.value/2-1)+2*a1c"
   ]
  },
  {
   "cell_type": "markdown",
   "id": "06c7388f",
   "metadata": {
    "variables": {
     "a1": "84.0",
     "a1c": "120.0",
     "a2": "60.0",
     "a2c": "48.0"
    }
   },
   "source": [
    "|Conditions de pince|Valeur|\n",
    "|-|-|\n",
    "|$$a_{1} [mm]$$|{{a1}}|\n",
    "|$$a_{2} [mm]$$|{{a2}}|\n",
    "|$$a_{1,cg} [mm]$$|{{a1c}}|\n",
    "|$$a_{2,cg} [mm]$$|{{a2c}}|"
   ]
  },
  {
   "cell_type": "markdown",
   "id": "8b7b478a",
   "metadata": {
    "extensions": {
     "jupyter_dashboards": {
      "version": 1,
      "views": {
       "default_view": {
        "col": 0,
        "height": 2,
        "row": 54,
        "width": 12
       }
      }
     }
    }
   },
   "source": [
    "## 2. Vérifications"
   ]
  },
  {
   "cell_type": "markdown",
   "id": "6387958e",
   "metadata": {
    "extensions": {
     "jupyter_dashboards": {
      "version": 1,
      "views": {
       "default_view": {
        "col": 0,
        "height": 2,
        "row": 52,
        "width": 12
       }
      }
     }
    }
   },
   "source": [
    "### 2.1. Rupture par enfoncement des vis dans le bois"
   ]
  },
  {
   "cell_type": "markdown",
   "id": "65766929",
   "metadata": {},
   "source": [
    "$$F_{ax,k,Rk}=\\frac{n_{ef}.f_{ax,k}.d.l_{ef}.k_{d}}{1,2 . cos^2(\\alpha)+sin^2(\\alpha)}$$\n",
    "\n",
    "$$f_{ax,k}=0.52.d^{-0.5}.l_{ef}^{-0.1}.\\rho_{k}^{0.8}$$\n",
    "\n",
    "$$k_{d}=min(\\frac{d}{8};1)$$"
   ]
  },
  {
   "cell_type": "markdown",
   "id": "ed9edada",
   "metadata": {},
   "source": [
    "- Fax,α,Rk est la valeur caractéristique de la capacité résistante à l’arrachement de l’assemblage à un angle α par rapport au fil, en N ;\n",
    "- fax,k est la valeur caractéristique de la résistance à l’arrachement perpendiculairement au fil, en N/m2 ;\n",
    "- nef est le nombre efficace de tire-fonds ;\n",
    "- lef est la longueur de pénétration de la partie filetée,en mm ;\n",
    "- ρk est la masse volumique caractéristique, en kg/m3 ;\n",
    "- α est l’angle formé par l’axe du tire-fond et la direction du fil, avec α ≥ 30°"
   ]
  },
  {
   "cell_type": "code",
   "execution_count": 110,
   "id": "1c86c8c3",
   "metadata": {
    "ExecuteTime": {
     "end_time": "2022-05-10T10:53:55.392549Z",
     "start_time": "2022-05-10T10:53:55.376958Z"
    }
   },
   "outputs": [],
   "source": [
    "kd=min(d.value/8,1)\n",
    "faxk=0.52*(d.value**(-0.5))*l.value**(-0.1)*pk**(0.8)\n",
    "\n",
    "nef=n.value**0.9\n",
    "\n",
    "Faxk=(nef*faxk*d.value*l.value*kd)/(1.2*(cos(math.radians(alph.value)))**2+(sin(math.radians(alph.value))**2))\n",
    "\n",
    "faxk=round(faxk,1)\n",
    "\n",
    "Faxk=floor(Faxk/1000)\n",
    "\n",
    "Faxd=floor(((Faxk)*kmod)/gm)\n",
    "\n",
    "fc90d=(fc90k*kmod)/gm\n",
    "fc90d=round(fc90d,2)\n",
    "\n",
    "Rd=round((la*ba.value*fc90d)/1000,0)"
   ]
  },
  {
   "cell_type": "markdown",
   "id": "5ac59dfd",
   "metadata": {
    "ExecuteTime": {
     "end_time": "2022-05-09T09:40:28.473600Z",
     "start_time": "2022-05-09T09:40:28.458016Z"
    },
    "variables": {
     "Faxd": "42",
     "Faxk": "93",
     "faxk": "9.8",
     "kd": "1"
    }
   },
   "source": [
    "|Variable|Valeur|\n",
    "|-|-|\n",
    "|$$k_{d}$$|{{kd}}|\n",
    "|$$f_{ax;k} [N/m2]$$|{{faxk}}|\n",
    "|$$F_{ax,k,Rk} [kN]$$|{{Faxk}}|\n",
    "|$$F_{ax,k,Rd} [kN]$$|{{Faxd}}|"
   ]
  },
  {
   "cell_type": "markdown",
   "id": "b7e08b2f",
   "metadata": {
    "ExecuteTime": {
     "end_time": "2022-04-26T11:41:15.688326Z",
     "start_time": "2022-04-26T11:41:15.672709Z"
    },
    "extensions": {
     "jupyter_dashboards": {
      "version": 1,
      "views": {
       "default_view": {
        "col": 0,
        "height": 2,
        "row": 32,
        "width": 12
       }
      }
     }
    }
   },
   "source": [
    "### 2.2. Rupture par flambement des vis dans le bois"
   ]
  },
  {
   "cell_type": "markdown",
   "id": "8585415e",
   "metadata": {},
   "source": [
    "$$F_{b,Rd}=n.f_{b,d}$$"
   ]
  },
  {
   "cell_type": "markdown",
   "id": "a9d4524a",
   "metadata": {},
   "source": [
    "- n est le nombre de vis\n",
    "- fb,d est la valeur de calcul de flambement unitaire "
   ]
  },
  {
   "cell_type": "markdown",
   "id": "94624e1c",
   "metadata": {},
   "source": [
    "$$f_{b,d}=\\frac{\\chi.A.f_{y}}{\\gamma_{M1}}$$"
   ]
  },
  {
   "cell_type": "markdown",
   "id": "9a57c46c",
   "metadata": {},
   "source": [
    "- γM1 tel que défini dans NF EN 1993-1-1 (γM1= 1 dans NF EN 1993-1-1 de 2007) ;\n",
    "- fy est la résistance limite élastique de l’acier ;\n",
    "- χ est le coefficient de réduction pour le mode de flambement considéré ;\n",
    "- A est la section transversale (surface au diamètre intérieur de la vis)"
   ]
  },
  {
   "cell_type": "markdown",
   "id": "864c508d",
   "metadata": {
    "ExecuteTime": {
     "end_time": "2022-05-09T09:52:46.490636Z",
     "start_time": "2022-05-09T09:52:46.474833Z"
    }
   },
   "source": [
    "$$\\chi=\\frac{1}{\\phi+\\sqrt{\\phi^2-\\lambda^2}}\\leq 1,0$$"
   ]
  },
  {
   "cell_type": "markdown",
   "id": "33fcc1e6",
   "metadata": {},
   "source": [
    "avec :\n",
    "\n",
    "$$\\phi=0.5[1+0,49(\\lambda-0,2)+\\lambda^2]$$\n",
    "\n",
    "$$\\lambda=\\sqrt{\\frac{A.f_ {y}}{N_{cr}}}$$\n",
    "    "
   ]
  },
  {
   "cell_type": "markdown",
   "id": "e8de6bf7",
   "metadata": {},
   "source": [
    "L'effort critique de flambement Ncr est calculé selon la formule : \n",
    "\n",
    "$$N_{cr}=\\sqrt{C_{h}.E_{s}.I_{s}}$$\n",
    "\n",
    "- Es est le module d’élasticité de l’acier : 210000 N/mm² ;\n",
    "- Is est l’inertie de flexion ;\n",
    "- Ch est le module élastique de portance perpendiculaire aux vis"
   ]
  },
  {
   "cell_type": "markdown",
   "id": "9831fe80",
   "metadata": {},
   "source": [
    "$$C_{h,90}=(0,19+0,012.d)\\rho_{k}.(\\frac{\\alpha}{180}+0.5)$$"
   ]
  },
  {
   "cell_type": "code",
   "execution_count": 111,
   "id": "e0de72a3",
   "metadata": {
    "ExecuteTime": {
     "end_time": "2022-05-10T10:53:55.492802Z",
     "start_time": "2022-05-10T10:53:55.477181Z"
    }
   },
   "outputs": [],
   "source": [
    "ch90=(0.19+0.012*d.value)*pk*((alph.value/180)+0.5)\n",
    "ch90=round(ch90,2)\n",
    "\n",
    "Is=(math.pi/64)*((0.7*d.value)**4)\n",
    "\n",
    "Es=210000\n",
    "\n",
    "Ncr=sqrt(ch90*Es*Is)\n",
    "\n",
    "Ncr=round(Ncr,0)\n",
    "\n",
    "A=math.pi*((d.value*0.7)/2)**2\n",
    "\n",
    "lamb=sqrt((A*fyb.value)/Ncr)\n",
    "lamb=round(lamb,2)\n",
    "\n",
    "phi=0.5*(1+0.49*(lamb-0.2)+lamb**2)\n",
    "phi=round(phi,2)\n",
    "\n",
    "chi=1/(phi+sqrt(phi**2-lamb**2))\n",
    "chi=min(chi,1)\n",
    "chi=round(chi,2)\n",
    "\n",
    "fbd=(chi*A*fyb.value)\n",
    "fbd=ceil(fbd/1000)\n",
    "\n",
    "\n",
    "fbrd=n.value*fbd"
   ]
  },
  {
   "cell_type": "markdown",
   "id": "d22abdd9",
   "metadata": {
    "variables": {
     "Ncr": "75211.0",
     "ch90": "110.22",
     "chi": "0.79",
     "fbd": "22",
     "fbrd": "220.0",
     "lamb": "0.59",
     "phi": "0.77"
    }
   },
   "source": [
    "|Variable|Valeur|\n",
    "|-|-|\n",
    "|$$C_{h,90} [MPa]$$|{{ch90}}|\n",
    "|$$N_{cr} [N]$$|{{Ncr}}|\n",
    "|$$\\lambda$$|{{lamb}}|\n",
    "|$$\\phi$$|{{phi}}|\n",
    "|$$\\chi$$|{{chi}}|\n",
    "|$$f_{b,d}[kN]$$|{{fbd}}|\n",
    "|$$F_{b,Rd}[kN]$$|{{fbrd}}|"
   ]
  },
  {
   "cell_type": "markdown",
   "id": "8df1d8f2",
   "metadata": {},
   "source": [
    "### 2.3. Rupture du bois par compression au-dessus des vis"
   ]
  },
  {
   "cell_type": "code",
   "execution_count": 112,
   "id": "28811fa8",
   "metadata": {
    "ExecuteTime": {
     "end_time": "2022-05-10T10:53:55.622962Z",
     "start_time": "2022-05-10T10:53:55.602755Z"
    }
   },
   "outputs": [
    {
     "data": {
      "application/vnd.jupyter.widget-view+json": {
       "model_id": "8d7935ea427c4263b7b532b2e58fc6ea",
       "version_major": 2,
       "version_minor": 0
      },
      "text/plain": [
       "Image(value=b'\\x89PNG\\r\\n\\x1a\\n\\x00\\x00\\x00\\rIHDR\\x00\\x00\\x03d\\x00\\x00\\x01G\\x08\\x06\\x00\\x00\\x00\\xceO\\x8fy\\x00\\…"
      ]
     },
     "metadata": {},
     "output_type": "display_data"
    }
   ],
   "source": [
    "file = open(\"Compression.png\", \"rb\")\n",
    "image = file.read()\n",
    "widgets.Image(\n",
    "    value=image,\n",
    "    format='png',\n",
    "    width=500,\n",
    "    height=500,\n",
    ")"
   ]
  },
  {
   "cell_type": "markdown",
   "id": "d005fa52",
   "metadata": {},
   "source": [
    "$$F_{c,90,l2,d}=A_{ef,2}.f_{c,90,d}$$"
   ]
  },
  {
   "cell_type": "markdown",
   "id": "b7ad2179",
   "metadata": {},
   "source": [
    "avec :\n",
    "- Aef,2 est l’aire efficace\n",
    "- bef,2 est la largeur efficace\n",
    "- l ef,2 est la longueur efficace"
   ]
  },
  {
   "cell_type": "markdown",
   "id": "44c33cc0",
   "metadata": {},
   "source": [
    "$$A_{ef,2}=b_{ef,2}.l_{ef,2}$$\n",
    "\n",
    "$$b_{ef,2}=min(b;b_{vis}+2.l_{s}.tan(15°))$$"
   ]
  },
  {
   "cell_type": "code",
   "execution_count": 113,
   "id": "5db7c69e",
   "metadata": {
    "ExecuteTime": {
     "end_time": "2022-05-10T10:53:55.643217Z",
     "start_time": "2022-05-10T10:53:55.622962Z"
    }
   },
   "outputs": [],
   "source": [
    "if appui=='Rive':\n",
    "    lef2=la+0.25*l.value*exp(3.3*(l.value/ha.value))\n",
    "else:\n",
    "    lef2=la+0.58*l.value*exp(3.6*(l.value/ha.value))\n",
    "    \n",
    "lef2=round(lef2,0)\n",
    "    \n",
    "bef2=min(ba.value,a2+2*l.value*tan(math.radians(15)))\n",
    "bef2=round(bef2,0)\n",
    "\n",
    "\n",
    "\n",
    "Fc90d=bef2*lef2*fc90d\n",
    "\n",
    "Fc90d=round(Fc90d/1000,0)"
   ]
  },
  {
   "cell_type": "markdown",
   "id": "477d3ebc",
   "metadata": {
    "variables": {
     "Fc90d": "98.0",
     "bef2": "100.0",
     "fc90d": "1.06",
     "lef2": "927.0"
    }
   },
   "source": [
    "|Variable|Valeur|\n",
    "|-|-|\n",
    "|$$l_{ef,2} [mm]$$|{{lef2}}|\n",
    "|$$b_{ef,2} [mm]$$|{{bef2}}|\n",
    "|$$f_{c,90,d} [MPa]$$|{{fc90d}}|\n",
    "|$$F_{c,90,l2,d} [kN]$$|{{Fc90d}}|"
   ]
  },
  {
   "cell_type": "code",
   "execution_count": 114,
   "id": "9803d0fb",
   "metadata": {
    "ExecuteTime": {
     "end_time": "2022-05-10T10:53:55.733828Z",
     "start_time": "2022-05-10T10:53:55.715746Z"
    }
   },
   "outputs": [],
   "source": [
    "##Calcul de l'épaisseur tmin de la platine de répartition \n",
    "\n",
    "if nuance.value=='235':\n",
    "    s=235\n",
    "elif nuance.value=='275':\n",
    "    s=275\n",
    "elif nuance.value=='355':\n",
    "        s=355\n",
    "elif nuance.value=='420':\n",
    "        s=420\n",
    "else:\n",
    "    s=460\n",
    "\n",
    "\n",
    "Lp=(2*a1c+((n.value/2)-1)*a1)\n",
    "lp=(2*a2c+a2)\n",
    "\n",
    "P1=p.value*1000/Lp\n",
    "P2=p.value*1000/lp\n",
    "\n",
    "M1=P1*(a1c**2/2)\n",
    "M2=P2*(a2c**2/2)\n",
    "\n",
    "t1=sqrt((6*M1)/((2*a2c+a2)*s))\n",
    "t2=sqrt((6*M2)/((2*a1c+((n.value/2)-1)*a1)*s))\n",
    "\n",
    "tmin=max(t1,t2)\n",
    "\n",
    "tmin=ceil(tmin)"
   ]
  },
  {
   "cell_type": "markdown",
   "id": "d8ac9b3e",
   "metadata": {},
   "source": [
    "## 3. Résultats des trois modes de rupture axiaux"
   ]
  },
  {
   "cell_type": "code",
   "execution_count": 115,
   "id": "38bf7163",
   "metadata": {
    "ExecuteTime": {
     "end_time": "2022-05-10T10:53:55.749606Z",
     "start_time": "2022-05-10T10:53:55.735858Z"
    }
   },
   "outputs": [],
   "source": [
    "R1=Faxd+Rd\n",
    "R2=fbrd+Rd\n",
    "R3=Fc90d\n",
    "Rdef=min(R1,R2,R3)\n",
    "\n",
    "tx=round((p.value/Rdef)*100,0)"
   ]
  },
  {
   "cell_type": "markdown",
   "id": "d4f8ea02",
   "metadata": {
    "variables": {
     "R1": "103.0",
     "R2": "281.0",
     "R3": "98.0",
     "Rdef": "98.0",
     "p.value": "49.0",
     "tx": "50.0"
    }
   },
   "source": [
    "- Rupture du bois par enfoncement des vis (arrachement) dans le bois combinée avec celle de l'appui \n",
    "\n",
    "$$R_{1}=F_{ax,k,Rd}+l.b.f_{c,90,d}$$\n",
    "\n",
    "- Rupture des vis par flambement combinée avec celle de l'appui\n",
    "\n",
    "$$R_{2}=F_{b,Rd}+l.b.f_{c,90,d}$$\n",
    "\n",
    "\n",
    "- Rupture du bois par compression transversale au-dessus des vis\n",
    "\n",
    "$$R_{3}=F_{c,90,l2,d}$$\n",
    "\n",
    "\n",
    "\n",
    "|Mode de rupture|Valeur|\n",
    "|-|-|\n",
    "|$$R_{1} [kN]$$|{{R1}}|\n",
    "|$$R_{2} [kN]$$|{{R2}}|\n",
    "|$$R_{3} [kN]$$|{{R3}}|\n",
    "|$$R_{d} [kN]$$|{{Rdef}}|\n",
    "|$$F_{ax,ELU} [kN]$$|{{p.value}}|\n",
    "|**Taux de travail**|**{{tx}}%**|\n"
   ]
  },
  {
   "cell_type": "markdown",
   "id": "a8e42d6f",
   "metadata": {},
   "source": [
    "## 4. Rupture des vis par cisaillement"
   ]
  },
  {
   "cell_type": "code",
   "execution_count": 116,
   "id": "d646014d",
   "metadata": {
    "ExecuteTime": {
     "end_time": "2022-05-10T10:53:55.885247Z",
     "start_time": "2022-05-10T10:53:55.867198Z"
    }
   },
   "outputs": [
    {
     "data": {
      "application/vnd.jupyter.widget-view+json": {
       "model_id": "cfc14ec494e547eeabe3bf539553f46f",
       "version_major": 2,
       "version_minor": 0
      },
      "text/plain": [
       "Image(value=b'\\x89PNG\\r\\n\\x1a\\n\\x00\\x00\\x00\\rIHDR\\x00\\x00\\x01\\xe9\\x00\\x00\\x00\\xe0\\x08\\x06\\x00\\x00\\x00\\'\\xb6\\x9…"
      ]
     },
     "metadata": {},
     "output_type": "display_data"
    }
   ],
   "source": [
    "if tmin<0.5*d.value:\n",
    "    file = open(\"cis1.png\", \"rb\")\n",
    "    image = file.read()\n",
    "    \n",
    "else:\n",
    "    file = open(\"cis2.png\", \"rb\")\n",
    "    image = file.read()\n",
    "    \n",
    "widgets.Image(\n",
    "    value=image,\n",
    "    format='png',\n",
    "    width=300,\n",
    "    height=300,)"
   ]
  },
  {
   "cell_type": "code",
   "execution_count": 117,
   "id": "ec97d917",
   "metadata": {
    "ExecuteTime": {
     "end_time": "2022-05-10T10:53:55.905434Z",
     "start_time": "2022-05-10T10:53:55.885247Z"
    }
   },
   "outputs": [],
   "source": [
    "Myrk=0.3*fub.value*d.value**2.6\n",
    "\n",
    "fh1=0.082*pk*d.value**(-0.3)\n",
    "\n",
    "t1=l.value\n",
    "\n",
    "if tmin<0.5*d.value:\n",
    "    Rc=min(0.4*fh1*t1*d.value,1.15*sqrt(2*Myrk*fh1*d.value))\n",
    "else:\n",
    "    Rc=min(fh1*t1*d.value*(sqrt(2+(4*Myrk)/(fh1*t1**2*d.value))-1),2.3*sqrt(2*Myrk*fh1*d.value),fh1*t1*d.value)\n",
    "\n",
    "Rcd=(n.value*Rc*(kmod/gm))/1000\n",
    "\n",
    "txc=ceil((pl.value/Rcd)*100)\n",
    "\n",
    "Rcd=floor(Rcd)"
   ]
  },
  {
   "cell_type": "markdown",
   "id": "71c197b3",
   "metadata": {
    "ExecuteTime": {
     "end_time": "2022-05-10T09:43:06.569150Z",
     "start_time": "2022-05-10T09:43:06.553983Z"
    },
    "variables": {
     "Rcd": "36",
     "pl.value": "20.0",
     "txc": "55"
    }
   },
   "source": [
    "|Variable|Valeur|\n",
    "|-|-|\n",
    "|$$F_{v,rd} [kN]$$|{{Rcd}}|\n",
    "|$$F_{v,ELU} [kN]$$|{{pl.value}}|\n",
    "|**Taux de travail**|**{{txc}}%**|"
   ]
  },
  {
   "cell_type": "markdown",
   "id": "435f798d",
   "metadata": {},
   "source": [
    "## 5. Dimensions de la platine de répartition"
   ]
  },
  {
   "cell_type": "markdown",
   "id": "26b94727",
   "metadata": {
    "variables": {
     "Lp": "576.0",
     "lp": "156.0",
     "nuance.value": "275",
     "tmin": "10"
    }
   },
   "source": [
    "|Variable|Valeur|\n",
    "|-|-|\n",
    "|Acier|S{{nuance.value}}|\n",
    "|Longueur [mm]|{{Lp}}|\n",
    "|Largeur [mm]|{{lp}}|\n",
    "|Epaisseur [mm]|{{tmin}}|"
   ]
  },
  {
   "cell_type": "markdown",
   "id": "53fec204",
   "metadata": {},
   "source": [
    "## 6. Géométrie finale de l'assemblage"
   ]
  },
  {
   "cell_type": "code",
   "execution_count": 137,
   "id": "883b775c",
   "metadata": {
    "ExecuteTime": {
     "end_time": "2022-05-10T11:38:08.635567Z",
     "start_time": "2022-05-10T11:38:08.619937Z"
    }
   },
   "outputs": [],
   "source": [
    "Lf=Lp/10\n",
    "Lf=ceil(Lf)*10\n",
    "\n",
    "lf=lp/10\n",
    "lf=ceil(lf)*10"
   ]
  },
  {
   "cell_type": "markdown",
   "id": "1c3cdf3f",
   "metadata": {
    "ExecuteTime": {
     "end_time": "2022-05-10T11:38:23.260136Z",
     "start_time": "2022-05-10T11:38:23.229353Z"
    },
    "variables": {
     "Rcd": "36",
     "pl.value": "20.0",
     "txc": "55"
    }
   },
   "source": [
    "|Variable|Valeur|\n",
    "|-|-|\n",
    "|$$F_{v,rd} [kN]$$|{{Rcd}}|\n",
    "|$$F_{v,ELU} [kN]$$|{{pl.value}}|\n",
    "|**Taux de travail**|**{{txc}}%**|"
   ]
  },
  {
   "cell_type": "code",
   "execution_count": null,
   "id": "2739e2d9",
   "metadata": {},
   "outputs": [],
   "source": []
  },
  {
   "cell_type": "code",
   "execution_count": null,
   "id": "4cedbe56",
   "metadata": {},
   "outputs": [],
   "source": []
  },
  {
   "cell_type": "code",
   "execution_count": null,
   "id": "e03e4b0f",
   "metadata": {},
   "outputs": [],
   "source": []
  },
  {
   "cell_type": "code",
   "execution_count": 120,
   "id": "57796da5",
   "metadata": {
    "ExecuteTime": {
     "end_time": "2022-05-10T10:58:33.625395Z",
     "start_time": "2022-05-10T10:58:33.587575Z"
    },
    "scrolled": false
   },
   "outputs": [
    {
     "data": {
      "application/vnd.jupyter.widget-view+json": {
       "model_id": "ef690934ebad42d19e94b6446fd109fa",
       "version_major": 2,
       "version_minor": 0
      },
      "text/plain": [
       "Canvas(width=1000)"
      ]
     },
     "metadata": {},
     "output_type": "display_data"
    }
   ],
   "source": [
    "canvas = Canvas(width=1000, height=500)\n",
    "canvas.fill_style = \"#fec\"\n",
    "canvas.stroke_style = \"#4e6393\"\n",
    "canvas.fill_rect(0, 100, 1000, ba.value)\n",
    "canvas.stroke_rect((500-Lp/2), 100+ba.value/2-lp/2, Lp, lp)\n",
    "canvas.stroke_arc(100, 65, 3.5, 0, pi * 2, True)\n",
    "canvas.stroke_arc(100, 65, 3.5, 0, pi * 2, True)\n",
    "\n",
    "\n",
    "canvas"
   ]
  },
  {
   "cell_type": "code",
   "execution_count": null,
   "id": "a9b792b0",
   "metadata": {},
   "outputs": [],
   "source": []
  },
  {
   "cell_type": "code",
   "execution_count": null,
   "id": "39215dca",
   "metadata": {},
   "outputs": [],
   "source": []
  },
  {
   "cell_type": "code",
   "execution_count": null,
   "id": "9926c7c7",
   "metadata": {},
   "outputs": [],
   "source": []
  },
  {
   "cell_type": "code",
   "execution_count": null,
   "id": "c743b883",
   "metadata": {},
   "outputs": [],
   "source": []
  },
  {
   "cell_type": "code",
   "execution_count": null,
   "id": "f023264d",
   "metadata": {},
   "outputs": [],
   "source": []
  },
  {
   "cell_type": "code",
   "execution_count": null,
   "id": "ab79e97e",
   "metadata": {},
   "outputs": [],
   "source": []
  },
  {
   "cell_type": "code",
   "execution_count": null,
   "id": "f2966439",
   "metadata": {},
   "outputs": [],
   "source": []
  }
 ],
 "metadata": {
  "extensions": {
   "jupyter_dashboards": {
    "activeView": "default_view",
    "version": 1,
    "views": {
     "default_view": {
      "cellMargin": 10,
      "defaultCellHeight": 40,
      "maxColumns": 12,
      "name": "active_view",
      "type": "grid"
     }
    }
   }
  },
  "hide_input": false,
  "kernelspec": {
   "display_name": "Python 3 (ipykernel)",
   "language": "python",
   "name": "python3"
  },
  "language_info": {
   "codemirror_mode": {
    "name": "ipython",
    "version": 3
   },
   "file_extension": ".py",
   "mimetype": "text/x-python",
   "name": "python",
   "nbconvert_exporter": "python",
   "pygments_lexer": "ipython3",
   "version": "3.10.0"
  }
 },
 "nbformat": 4,
 "nbformat_minor": 5
}
